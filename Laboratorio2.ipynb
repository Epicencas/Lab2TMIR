{
 "cells": [
  {
   "cell_type": "code",
   "execution_count": 3,
   "id": "96e66f37-d1a0-4ee5-a07a-ef3969f1b57d",
   "metadata": {},
   "outputs": [
    {
     "name": "stdout",
     "output_type": "stream",
     "text": [
      "Se encontró 4 objetos\n",
      "El perimetro de la moneda es: 467.83 pixeles\n",
      "El perimetro de la papa es: 1967.42 pixeles\n",
      "La proporción del perimetro de la ficha en relación a la papa es:23.78%\n",
      "El área de la moneda es: 14917.5 pixeles cuadrados\n",
      "El área de la papa es: 246415.0 pixeles cuadrados\n",
      "La proporción del área de la ficha en relación a la papa es: 6.05%\n"
     ]
    },
    {
     "data": {
      "text/plain": [
       "-1"
      ]
     },
     "execution_count": 3,
     "metadata": {},
     "output_type": "execute_result"
    }
   ],
   "source": [
    "import numpy as np\n",
    "import cv2\n",
    " \n",
    "# Cargamos la imagen\n",
    "original = cv2.imread(\"papa20.png\")\n",
    "cv2.imshow(\"original\", original)\n",
    "\n",
    "# Convertimos a escala de grises \n",
    "gris = cv2.cvtColor(original, cv2.COLOR_BGR2GRAY)\n",
    "cv2.imshow(\"gris\", gris)\n",
    " \n",
    "# Aplicar suavizado Gaussiano para eliminación de ruido\n",
    "gauss = cv2.GaussianBlur(gris, (5,5), 0)\n",
    "cv2.imshow(\"suavizado\", gauss)\n",
    "\n",
    "# Umbralización\n",
    "a, th = cv2.threshold(gauss,70,210,cv2.THRESH_BINARY)# + cv2.THRESH_OTSU)\n",
    "gaussth=cv2.Canny(th, 10, 180)\n",
    "cv2.imshow(\"binarizado\", gaussth)\n",
    "\n",
    "mascara = cv2.bitwise_and(gaussth, gaussth, mask= th)\n",
    "cv2.imshow(\"mask\",mascara)\n",
    "\n",
    "#Transformada de Hough\n",
    "\"\"\"\n",
    "circles = cv2.HoughCircles(gaussth,cv2.HOUGH_GRADIENT,3,10,\n",
    "                            param1=20,param2=50,minRadius=50,maxRadius=120)\n",
    "circles = np.uint16(np.around(circles))\n",
    "for i in circles[0,:]:\n",
    "    # Dibuja la circusnferencia del círculo\n",
    "    cv2.circle(gaussth,(i[0],i[1]),i[2],(0,255,0),2)\n",
    "    # dibuja el centro del círculo\n",
    "    cv2.circle(gaussth,(i[0],i[1]),2,(0,0,255),3)\n",
    "cv2.imshow('círculos detectados',gaussth)\n",
    "\"\"\"\n",
    "\n",
    "# Detectamos los bordes con Canny\n",
    "canny = cv2.Canny(gaussth, 50, 150)\n",
    "cv2.imshow(\"canny\", canny)\n",
    "\n",
    "# Dilatación y Erosión de los contornos\n",
    "canny = cv2.dilate(canny, None, iterations=1)\n",
    "canny =cv2.erode(canny, None, iterations= 1)\n",
    "#cv2.imshow(\"dilatación y erosión\", canny)\n",
    "\n",
    "#opening\n",
    "kernel=np.ones((5,5),np.uint8)\n",
    "opening_op= cv2.morphologyEx(canny,cv2.MORPH_OPEN,kernel)\n",
    "closing_op= cv2.morphologyEx(canny,cv2.MORPH_CLOSE,kernel)\n",
    "cv2.imshow(\"opening\", canny)\n",
    "\n",
    "# Buscamos los contornos\n",
    "(contornos,_) = cv2.findContours(canny.copy(), cv2.RETR_LIST, cv2.CHAIN_APPROX_SIMPLE)\n",
    "\n",
    "# Mostramos el número de contornos encontrados\n",
    "print(\"Se encontró {} objetos\".format(len(contornos)))\n",
    "\n",
    "cv2.drawContours(original,contornos,-1,(0,0,255), 2)\n",
    "cv2.imshow(\"contornos\", original)\n",
    "\n",
    "#Calculo de pixeles por contorno\n",
    "permon = round(cv2.arcLength(contornos[1], True),2)\n",
    "perpapa = round(cv2.arcLength(contornos[3], True),2)\n",
    "porcentaje1 = round(permon/perpapa*100, 2)\n",
    "print(f'El perimetro de la moneda es: {permon} pixeles')\n",
    "print(f'El perimetro de la papa es: {perpapa} pixeles')\n",
    "print(f'La proporción del perimetro de la ficha en relación a la papa es:{porcentaje1}%')\n",
    "\n",
    "\"\"\"\n",
    "listpx =[]\n",
    "for i in range (len(contornos)):\n",
    "    cv2.drawContours(gauss, contornos, i, (0,255,0),3)\n",
    "    print(\"Contorno\", \"=\", len(contornos[i]), \"px\")\n",
    "    listpx.append(len(contornos[i]))\n",
    "#print(listpx)\n",
    "\"\"\"\n",
    "#Calculo del área de los 2 contornos\n",
    "areamon = cv2.contourArea(contornos[1])\n",
    "areapapa = cv2.contourArea(contornos[3])\n",
    "porcentaje2 = round(areamon/areapapa*100, 2)\n",
    "print(f'El área de la moneda es: {areamon} pixeles cuadrados')\n",
    "print(f'El área de la papa es: {areapapa} pixeles cuadrados')\n",
    "print(f'La proporción del área de la ficha en relación a la papa es: {porcentaje2}%')\n",
    "\n",
    "cv2.waitKey(0)"
   ]
  },
  {
   "cell_type": "code",
   "execution_count": null,
   "id": "05b2afc7-1914-40c5-b05c-315d7840dfc0",
   "metadata": {},
   "outputs": [],
   "source": []
  }
 ],
 "metadata": {
  "kernelspec": {
   "display_name": "Python 3 (ipykernel)",
   "language": "python",
   "name": "python3"
  },
  "language_info": {
   "codemirror_mode": {
    "name": "ipython",
    "version": 3
   },
   "file_extension": ".py",
   "mimetype": "text/x-python",
   "name": "python",
   "nbconvert_exporter": "python",
   "pygments_lexer": "ipython3",
   "version": "3.9.12"
  }
 },
 "nbformat": 4,
 "nbformat_minor": 5
}
